{
 "cells": [
  {
   "cell_type": "markdown",
   "id": "ef29ebba",
   "metadata": {},
   "source": [
    "# 1차원 배열"
   ]
  },
  {
   "cell_type": "code",
   "execution_count": null,
   "id": "25047c17",
   "metadata": {},
   "outputs": [],
   "source": [
    "# 나머지\n",
    "\n",
    "nums = []\n",
    "new_num = []\n",
    "\n",
    "for i in range(10):\n",
    "    nums.append(int(input()) % 42)\n",
    "\n",
    "for i in nums:\n",
    "    if i not in new_num:\n",
    "        new_num.append(i)\n",
    "\n",
    "print(len(new_num))"
   ]
  }
 ],
 "metadata": {
  "kernelspec": {
   "display_name": "Python 3 (ipykernel)",
   "language": "python",
   "name": "python3"
  },
  "language_info": {
   "codemirror_mode": {
    "name": "ipython",
    "version": 3
   },
   "file_extension": ".py",
   "mimetype": "text/x-python",
   "name": "python",
   "nbconvert_exporter": "python",
   "pygments_lexer": "ipython3",
   "version": "3.9.12"
  }
 },
 "nbformat": 4,
 "nbformat_minor": 5
}
